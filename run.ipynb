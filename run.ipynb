{
 "cells": [
  {
   "cell_type": "code",
   "execution_count": null,
   "metadata": {},
   "outputs": [],
   "source": [
    "\"\"\"\n",
    "!pip install requests\n",
    "!pip install pypdf\n",
    "!pip install python-dotenv\n",
    "!pip install google-generativeai\n",
    "\"\"\""
   ]
  },
  {
   "cell_type": "code",
   "execution_count": 8,
   "metadata": {
    "ExecuteTime": {
     "end_time": "2024-12-17T07:01:16.911342Z",
     "start_time": "2024-12-17T07:01:16.908936Z"
    }
   },
   "outputs": [],
   "source": [
    "# Importing of modules\n",
    "import requests\n",
    "from pypdf import PdfReader\n",
    "from dotenv import load_dotenv\n",
    "import os\n",
    "import google.generativeai as genai"
   ]
  },
  {
   "cell_type": "code",
   "execution_count": 5,
   "metadata": {
    "ExecuteTime": {
     "end_time": "2024-12-17T07:01:16.937650Z",
     "start_time": "2024-12-17T07:01:16.918346Z"
    }
   },
   "outputs": [],
   "source": [
    "load_dotenv()\n",
    "\n",
    "GOOGLE_API_KEY = os.getenv('GOOGLE_API_KEY')\n",
    "genai.configure(api_key=GOOGLE_API_KEY)\n",
    "model = genai.GenerativeModel('gemini-pro')"
   ]
  },
  {
   "cell_type": "code",
   "execution_count": 3,
   "metadata": {
    "ExecuteTime": {
     "end_time": "2024-12-17T07:01:16.943133Z",
     "start_time": "2024-12-17T07:01:16.939155Z"
    }
   },
   "outputs": [
    {
     "name": "stdout",
     "output_type": "stream",
     "text": [
      "DEEP NEURAL NETWORKS  @  https://iare-data.s3.ap-south-1.amazonaws.com/uploads/ems/SEE/2023-24/BT7RR20DEC23/13-Dec-2023/ACAC16_qp.pdf\n",
      "VIRTUAL REALITY  @  https://iare-data.s3.ap-south-1.amazonaws.com/uploads/ems/SEE/2023-24/BT7RR20DEC23/15-Dec-2023/ACDC11_qp.pdf\n",
      "PREDICTIVE DATA ANALYTICS  @  https://iare-data.s3.ap-south-1.amazonaws.com/uploads/ems/SEE/2023-24/BT7RR20DEC23/18-Dec-2023/ACAC17_qp.pdf\n",
      "COGNITIVE SCIENCES   @  https://iare-data.s3.ap-south-1.amazonaws.com/uploads/ems/SEE/2023-24/BT7RR20DEC23/20-Dec-2023/ACAC24_qp.pdf\n",
      "EMBEDDED SYSTEMS  @  https://iare-data.s3.ap-south-1.amazonaws.com/uploads/ems/SEE/2023-24/BT7RR20DEC23/22-Dec-2023/AECC40_qp.pdf\n",
      "\n"
     ]
    }
   ],
   "source": [
    "# Read from link.txt\n",
    "link=open(\"links.txt\",\"r\")\n",
    "data=link.read()\n",
    "link.close()\n",
    "print(data)"
   ]
  },
  {
   "cell_type": "code",
   "execution_count": 4,
   "metadata": {
    "ExecuteTime": {
     "end_time": "2024-12-17T07:01:16.952821Z",
     "start_time": "2024-12-17T07:01:16.944139Z"
    }
   },
   "outputs": [
    {
     "data": {
      "text/plain": [
       "{'DEEP NEURAL NETWORKS': 'https://iare-data.s3.ap-south-1.amazonaws.com/uploads/ems/SEE/2023-24/BT7RR20DEC23/13-Dec-2023/ACAC16_qp.pdf',\n",
       " 'VIRTUAL REALITY': 'https://iare-data.s3.ap-south-1.amazonaws.com/uploads/ems/SEE/2023-24/BT7RR20DEC23/15-Dec-2023/ACDC11_qp.pdf',\n",
       " 'PREDICTIVE DATA ANALYTICS': 'https://iare-data.s3.ap-south-1.amazonaws.com/uploads/ems/SEE/2023-24/BT7RR20DEC23/18-Dec-2023/ACAC17_qp.pdf',\n",
       " 'COGNITIVE SCIENCES': 'https://iare-data.s3.ap-south-1.amazonaws.com/uploads/ems/SEE/2023-24/BT7RR20DEC23/20-Dec-2023/ACAC24_qp.pdf',\n",
       " 'EMBEDDED SYSTEMS': 'https://iare-data.s3.ap-south-1.amazonaws.com/uploads/ems/SEE/2023-24/BT7RR20DEC23/22-Dec-2023/AECC40_qp.pdf'}"
      ]
     },
     "execution_count": 4,
     "metadata": {},
     "output_type": "execute_result"
    }
   ],
   "source": [
    "# Convert to dict\n",
    "subject_links={}\n",
    "subjects=data.split(\"\\n\")\n",
    "\n",
    "for i in subjects:\n",
    "    if len(i.strip().split(\"@\"))>1 and i.strip().split(\"@\")[1]!=\"\":\n",
    "        i=i.strip()\n",
    "        i_splitted=i.split(\"@\")\n",
    "        subject_links[i_splitted[0].strip()]=i_splitted[1].strip()\n",
    "\n",
    "subject_links"
   ]
  },
  {
   "cell_type": "code",
   "execution_count": 5,
   "metadata": {
    "ExecuteTime": {
     "end_time": "2024-12-17T07:01:18.411205Z",
     "start_time": "2024-12-17T07:01:16.953423Z"
    }
   },
   "outputs": [
    {
     "name": "stdout",
     "output_type": "stream",
     "text": [
      "File Downloaded : DEEP_NEURAL_NETWORKS\n",
      "File Downloaded : VIRTUAL_REALITY\n",
      "File Downloaded : PREDICTIVE_DATA_ANALYTICS\n",
      "File Downloaded : COGNITIVE_SCIENCES\n",
      "File Downloaded : EMBEDDED_SYSTEMS\n"
     ]
    }
   ],
   "source": [
    "# Downlaod the file and save as pdf \n",
    "for key,value in subject_links.items():\n",
    "    url=value\n",
    "    filename=key.replace(\"(\", \"\").replace(\" \", \"_\")\n",
    "    path=\"pdfs/sem7/\"\n",
    "    extension=\".pdf\"\n",
    "    \n",
    "    try:\n",
    "        response = requests.get(url)\n",
    "        response.raise_for_status()\n",
    "        \n",
    "        with open(path+filename+extension,\"wb\") as file:\n",
    "            file.write(response.content)\n",
    "        \n",
    "        print(f\"File Downloaded : {filename}\")\n",
    "    except requests.exceptions.RequestException as e:\n",
    "        print(f\"Error Occurred : {filename} {e}\")"
   ]
  },
  {
   "cell_type": "code",
   "execution_count": 6,
   "metadata": {
    "ExecuteTime": {
     "end_time": "2024-12-17T07:01:18.417139Z",
     "start_time": "2024-12-17T07:01:18.412276Z"
    }
   },
   "outputs": [],
   "source": [
    "# Functions to extract all questions\n",
    "def clean_question(question):\n",
    "    question=question[:question.find(\"[BL: \")].strip()\n",
    "    question=question.replace(\"\\n\", \" \")\n",
    "    if \"Page 1 of 2\" in question:\n",
    "        question=question.replace(\"Page 1 of 2\",\"\").strip()\n",
    "    return question\n",
    "\n",
    "def get_question_parts(question_group):\n",
    "    parts = []\n",
    "    for index, question in enumerate(question_group.strip().split(\"Marks: 7]\")):\n",
    "        if question != \"\":\n",
    "            question = clean_question(question)\n",
    "            if index % 2 != 0:\n",
    "                parts.append(parts[index - 1][:2] + \" \" + question)\n",
    "            else:\n",
    "                parts.append(question)\n",
    "    return parts\n",
    "\n",
    "def get_questions_in_group(all_text,search_start,search_end):\n",
    "    specific_module_questions=all_text[all_text.find(search_start)+len(search_start):all_text.find(search_end)]\n",
    "    return get_question_parts(specific_module_questions)\n",
    "\n",
    "def extract_all_questions(full_paper):\n",
    "    all_questions=[]\n",
    "    actual_questions_container=full_paper[full_paper.find(\"MODULE – I\"):]\n",
    "    \n",
    "    all_modules=[\"MODULE – I\",\"MODULE – II\",\"MODULE – III\",\"MODULE – IV\",\"MODULE – V\",\"− ◦ ◦ ⃝ ◦ ◦ −\"]\n",
    "    \n",
    "    for i in range(len(all_modules)-1):\n",
    "        all_questions_in_module_group=get_questions_in_group(actual_questions_container,all_modules[i],all_modules[i+1])\n",
    "        if len(all_questions_in_module_group)>2:\n",
    "            all_questions.append(all_questions_in_module_group[:2])\n",
    "            all_questions.append(all_questions_in_module_group[2:])\n",
    "        else:\n",
    "            all_questions.append(all_questions_in_module_group)\n",
    "    return all_questions\n",
    "\n",
    "def get_subject_questions(subject_path):\n",
    "    reader = PdfReader(subject_path)\n",
    "    full_paper_in_text=\"\"\n",
    "    for i in range(len(reader.pages)):\n",
    "        page=reader.pages[i]\n",
    "        text = page.extract_text()\n",
    "        full_paper_in_text+=text+\"\\n\"\n",
    "    all_questions=extract_all_questions(full_paper_in_text)\n",
    "    return all_questions\n",
    "\n",
    "def get_all_subject_questions(subject_links):\n",
    "    subject_data={}\n",
    "    \n",
    "    for key in subject_links.keys():\n",
    "        filename=key.replace(\"(\", \"\").replace(\" \", \"_\")\n",
    "        path=\"pdfs/sem7/\"\n",
    "        extension=\".pdf\"\n",
    "        all_questions=get_subject_questions(path+filename+extension)\n",
    "        subject_data[filename]=all_questions\n",
    "    \n",
    "    return subject_data"
   ]
  },
  {
   "cell_type": "code",
   "execution_count": 7,
   "metadata": {
    "ExecuteTime": {
     "end_time": "2024-12-17T07:01:18.504755Z",
     "start_time": "2024-12-17T07:01:18.417856Z"
    }
   },
   "outputs": [
    {
     "data": {
      "text/plain": [
       "{'DEEP_NEURAL_NETWORKS': [[], [], [], [], []],\n",
       " 'VIRTUAL_REALITY': [['1. (a) Discuss the role of real-time computer graphics in creating a compelling virtual reality (VR) experience.',\n",
       "   '1. (b) Analyze the requirements of a virtual environment and their contribution to the effectiveness of VR.'],\n",
       "  ['2. (a) What is meant by procedural modeling? Discuss the importance of geometrical transformations in creating virtual environments.',\n",
       "   '2. (b) Explain how collision detection enhances the interactivity of VR systems. Elaborate on 3D boundary representation and its significance in VR.'],\n",
       "  ['3. (a) Discuss the principles of linear and non-linear interpolation in VR animation.',\n",
       "   '3. (b) Illustrate with example how free form deformation techniques are used for modeling?'],\n",
       "  ['4. (a) How elastic collisions are achieved by direct impact of two particles and oblique impact of two particles.',\n",
       "   '4. (b) Assess the following i) Shape inbetweening ii) Object inbetweening iii) Parametric line inbetweening'],\n",
       "  ['5. (a) Describe the impact of the somatic senses on the VR experience. Compare integrated VR systems with other types of VR hardware.',\n",
       "   '5. (b) Draw the neat diagram and explain about Brodmann’s mapping of the somatic sensory area of the cortex.'],\n",
       "  ['6. (a) Summarize about sound perception. Discuss the role of physical simulation in VR software.',\n",
       "   '6. (b) Evaluate the effectiveness of different VR tool kits in creating virtual worlds. How Sense8’s word tool kit is used to write program for developing and interacting virtual world?'],\n",
       "  ['7. (a) List the application of VR in scientific contexts. How will you predict future advancements in VR technology? Discuss their potential impact.',\n",
       "   '7. (b) Write the features incorporated into 3D cartoon character. Analyze the future potential of VR in training scenarios.'],\n",
       "  ['8. (a) List few VR system used for architectural design. Describe the evolution of interaction modes in virtual environments.',\n",
       "   '8. (b) Explain in detail on the application of VR in architecture and human factor modeling.']],\n",
       " 'PREDICTIVE_DATA_ANALYTICS': [['1. (a) Interpret the results by conceiving a predictive analytics model for preventing employee attrition.',\n",
       "   '1. (b) Apply the steps to assess the feasibility of predictive analytic solution and show the results for “Motor insurance fraud project” .'],\n",
       "  ['2. (a) List the features of advanced data exploration techniques. Explain the concept of binning and sampling in data preparation.',\n",
       "   '2. (b) Discuss about the type of data used for predictive analytics with example. Compare observation period and outcome period in prediction models.'],\n",
       "  ['3. (a) Outline the principle of similarity based learning and construct a predictive model. Indicate the features of ensemble based learning.',\n",
       "   '3. (b) Apply the principle of decision tree induction and construct the steps for iterative Dichotomizer-3 algorithm.'],\n",
       "  ['4. (a) Explain the concept of entropy in terms of uncertainty or disorder in a probability distribution.',\n",
       "   '4. (b) Assume that you have an image of a creature that looks similar to cat and dog, but you want to know either it is a cat or dog. So for this identification, interpret the best possible algorithm that works on a similarity measure and construct the steps.'],\n",
       "  ['5. (a) Explain how Naïve Bayes classifier differs from the traditional Naïve Bayes model? Elaborate the reasons for using Naïve Bayes classifier for multiclass problems.',\n",
       "   '5. (b) Build a Naïve Bayes classifier model by using a synthetic dataset that encompasses weather conditions for playing a game of cricket.'],\n",
       "  ['6. (a) What is factorization in the context of probability distributions? Explain the concept of binning applied in probability based learning.',\n",
       "   '6. (b) Discuss the role of smoothing in probability based learning models. Implement probability density function using open source programming language.'],\n",
       "  ['7. (a) List out the assumptions made in linear regression. Explain in detail about multiple linear regression.',\n",
       "   '7. (b) Consider the following example: An organization wants to determine an employee’s salary in- crease based on their performance. Also the organization wants to know whether an employee would get a promotion or not based on their performance. Apply logistic regression and implement the solution steps.'],\n",
       "  ['8. (a) Describe the process of hypothesis testing in simple linear regression, including the role of p-values and confidence intervals.',\n",
       "   '8. (b) Compare and contrast the methods of error-based and non-error based learning. Analyze the implication of “learning rate” in Gradient descent algorithm.']],\n",
       " 'COGNITIVE_SCIENCES': [['1. (a) What makes cognitive science an inherently interdisciplinary field? Describe the relationship between human-computer interaction (HCI) and cognitive science.',\n",
       "   '1. (b) Interpret the concept of cognitive modeling and how computers are used to simulate cognitive processes. Provide examples of successful cognitive models and their impact on our understanding of human cognition.'],\n",
       "  ['2. (a) Describe the ethical issues raised by data-driven educational technologies and personalised methods of learning.',\n",
       "   '2. (b) Explain the role of Bayesian Networks in decision-making within cognitive systems. What chal- lenges might arise when integrating Bayesian Networks into cognitive systems, and how can they be addressed?'],\n",
       "  ['3. (a) Outline the significance of Bayesian modeling in cognitive science. How do cognitive models simulate problem-solving strategies in various domains?',\n",
       "   '3. (b) Mention ethical dilemmas that might arise when conducting research in cognitive modeling. How can researchers critically evaluate and address these ethical challenges?'],\n",
       "  ['4. (a) Write about cognitive modeling. How does cognitive modeling contribute to the development of artificial intelligence and human-computer interaction?',\n",
       "   '4. (b) List key challenges in validating cognitive models. Discuss the processes of model validation and verification in cognitive modeling.'],\n",
       "  ['5. (a) How does deductive reasoning differ from inductive reasoning? Discuss the impact of visual spatial reasoning on learning and academic performance.',\n",
       "   '5. (b) Elaborate the significance of abductive reasoning in the field of diagnostic medicine.'],\n",
       "  ['6. (a) Why is fuzzy logic useful in some applications? Outline the strategies for mitigating the impact of cognitive biases on reasoning.',\n",
       "   '6. (b) Explain how inductive reasoning is used to formulate scientific hypotheses and theories.'],\n",
       "  ['7. (a) Describe any notable challenges or limitations associated with the modeling paradigm, and how have you overcome them in your modeling projects?',\n",
       "   '7. (b) Discuss the key components of a successful modeling paradigm, and how do they interact with each other'],\n",
       "  ['8. (a) Summarize the steps involved in the modeling process from problem formulation to model deployment in a general modeling paradigm context.',\n",
       "   '8. (b) Outline the ethical considerations that should be taken into account when creating and using models, especially in fields like AI and machine learning.']],\n",
       " 'EMBEDDED_SYSTEMS': [['1. (a) Classify embedded systems based on complexity and performance requirements and give some examples.',\n",
       "   '1. (b) Design a digital camera with software and hardware units and also illustrate how it is works based on embedded design.'],\n",
       "  ['2. (a) Demonstrate the steps of binding and running embedded C program in Keil IDE with an example program.',\n",
       "   '2. (b) Develop a basic embedded C application that can read and write bits and provide an explanation.'],\n",
       "  ['3. (a) List the features of RTOS. Describe in detail about multiprocessing and multitasking with example.',\n",
       "   '3. (b) Three processes with process IDs P1, P2, P3 with estimated completion time 10, 5, 7 milliseconds respectively enters the ready queue together in the order P1, P2, P3. Calculate the waiting time and turn around time (TAT) for each process and the average waiting time and turn around time (Assuming there is no I/O waiting for the processes)'],\n",
       "  ['4. (a) Compare the characteristics of tasks, task states, process and threads in operating systems.',\n",
       "   '4. (b) Summarize different task communication synchronization issues encountered in inter process communication.'],\n",
       "  ['5. (a) Illustrate a comprehensive detail on integrated development environment tools based on embedded systems.',\n",
       "   '5. (b) Write a detail note on how the system is getting embedded software into the target system?'],\n",
       "  ['6. (a) Describe the problems faced in designing an RTOS. What techniques are used to overcome it?',\n",
       "   '6. (b) Give a brief explanation of the testing that is done on the host system during debugging procedures and mention its importance.'],\n",
       "  ['7. (a) Compare the various architectural features of one of the SHARC processors of your choice with its functional block diagram.',\n",
       "   '7. (b) Design an elevator controller embedded system with the necessary hardware and software.'],\n",
       "  ['8. (a) With neat diagram, describe concepts of ARM programming model and list its features.',\n",
       "   '8. (b) Demonstrate I2C bus communication with its devices and indicate how does control area network (CAN) differ from I2C.']]}"
      ]
     },
     "execution_count": 7,
     "metadata": {},
     "output_type": "execute_result"
    }
   ],
   "source": [
    "all_subject_questions=get_all_subject_questions(subject_links)\n",
    "all_subject_questions"
   ]
  },
  {
   "cell_type": "code",
   "execution_count": null,
   "metadata": {
    "ExecuteTime": {
     "end_time": "2024-12-17T07:16:18.706953Z",
     "start_time": "2024-12-17T07:08:50.822149Z"
    }
   },
   "outputs": [],
   "source": [
    "for subject_name, all_questions in all_subject_questions.items():\n",
    "    print(f\"\\n################## {subject_name} ##################\\n\")\n",
    "\n",
    "    path = \"answers/sem7/\"\n",
    "    extension = \".md\"\n",
    "\n",
    "    with open(path + subject_name + extension, 'w', encoding='utf-8') as file:\n",
    "\n",
    "        file.write(\"# \" + subject_name + \"\\n\\n\")\n",
    "        for questions_group in all_questions:\n",
    "            for question in questions_group:\n",
    "                question_text = question.strip()\n",
    "                if question_text:\n",
    "                    print(f\" {question_text} \")\n",
    "                    try:\n",
    "                        response = model.generate_content(\n",
    "                            f\"\"\"I am currently writing a semester exam for the subject {key}. \n",
    "                            The question carries 7 marks, so I need a highly detailed and well-structured answer. \n",
    "                            Please provide an elaborate explanation for the following question: '{question_text}'. \n",
    "                            The answer should be extremely substantial, clear, and organized in paragraphs and bullet points where necessary to ensure it meets the 7-mark criteria.\"\"\"\n",
    "                        )\n",
    "                        file.write(f\"## {question_text}\\n\\n\")\n",
    "                        file.write(response.text + \"\\n\\n\")\n",
    "                        print(f\"[SUCCESS]\")\n",
    "                    except Exception as e:\n",
    "                        print(f\"[ERROR] - {e}\")        "
   ]
  }
 ],
 "metadata": {
  "kernelspec": {
   "display_name": "Python 3",
   "language": "python",
   "name": "python3"
  },
  "language_info": {
   "codemirror_mode": {
    "name": "ipython",
    "version": 3
   },
   "file_extension": ".py",
   "mimetype": "text/x-python",
   "name": "python",
   "nbconvert_exporter": "python",
   "pygments_lexer": "ipython3",
   "version": "3.12.6"
  }
 },
 "nbformat": 4,
 "nbformat_minor": 2
}
